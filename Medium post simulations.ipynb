{
 "cells": [
  {
   "cell_type": "markdown",
   "metadata": {},
   "source": [
    "# [WIP] Coin Tossing 2.0\n",
    "\n",
    "## An analysis on the impact of p-hacking when performing A/B tests\n",
    "\n",
    "This is an update of the simulation created [here](https://github.com/fsalhani/coin_tossing/blob/master/Coin%20tossing%20simulation.ipynb)"
   ]
  },
  {
   "cell_type": "code",
   "execution_count": 1,
   "metadata": {},
   "outputs": [],
   "source": [
    "import random\n",
    "import numpy as np\n",
    "from scipy import stats\n",
    "import pandas as pd\n",
    "import matplotlib.pyplot as plt\n",
    "import seaborn as sns"
   ]
  },
  {
   "cell_type": "markdown",
   "metadata": {},
   "source": [
    "First, I'll create some variables to simplify the code later"
   ]
  },
  {
   "cell_type": "code",
   "execution_count": 2,
   "metadata": {},
   "outputs": [],
   "source": [
    "HEADS = 1\n",
    "TAILS = 0\n",
    "COIN_TYPES = ['PENNY', 'NICKEL', 'DIME', 'QUARTER', 'HALF-DOLLAR', 'DOLLAR']\n",
    "NUMBER_OF_SAMPLES = 10000\n",
    "NUMBER_OF_TESTS = 1000\n",
    "DEFAULT_P_VALUE = 0.05"
   ]
  },
  {
   "cell_type": "code",
   "execution_count": 3,
   "metadata": {
    "scrolled": false
   },
   "outputs": [],
   "source": [
    "index = pd.MultiIndex(\n",
    "            levels=[list(range(NUMBER_OF_TESTS)),['coin1_result','coin1_type','coin2_result','coin2_type','p_value']],\n",
    "            codes=[sorted(list(range(NUMBER_OF_TESTS))*5),[0,1,2,3,4]*NUMBER_OF_TESTS],\n",
    "            names=['Iteration','info']\n",
    "                     )\n",
    "base_df = pd.DataFrame('0', index=index, columns=range(NUMBER_OF_SAMPLES))"
   ]
  },
  {
   "cell_type": "markdown",
   "metadata": {},
   "source": [
    "This is a very simple `coin_toss` method"
   ]
  },
  {
   "cell_type": "code",
   "execution_count": 4,
   "metadata": {},
   "outputs": [],
   "source": [
    "def coin_toss():\n",
    "    return random.choice([HEADS,TAILS])"
   ]
  },
  {
   "cell_type": "markdown",
   "metadata": {},
   "source": [
    "###### CREATING THE DATA SET\n",
    "\n",
    "Now let's create the data set. It has 1,000 experiments. For each, it performs 10,000 tosses at random, also choosing the coin types randomly"
   ]
  },
  {
   "cell_type": "code",
   "execution_count": 11,
   "metadata": {},
   "outputs": [],
   "source": [
    "for j in range(NUMBER_OF_TESTS):\n",
    "    coin_1 = []\n",
    "    coin_2 = []\n",
    "    p_values = []\n",
    "    for i in range(NUMBER_OF_SAMPLES):\n",
    "        base_df.loc[j,'coin1_type'].loc[i] = random.choice(COIN_TYPES)\n",
    "        base_df.loc[j,'coin2_type'].loc[i] = random.choice(COIN_TYPES)\n",
    "        coin_1.append(coin_toss())\n",
    "        coin_2.append(coin_toss())\n",
    "        _,p_value = stats.ttest_ind(coin_1,coin_2)\n",
    "        p_values.append(p_value)\n",
    "        p_values[0] = 1\n",
    "    base_df.loc[j,'coin1_result'] = coin_1\n",
    "    base_df.loc[j,'coin2_result'] = coin_2\n",
    "    base_df.loc[j,'p_value'] = p_values"
   ]
  },
  {
   "cell_type": "markdown",
   "metadata": {},
   "source": [
    "I'll save the data set to csv just so that I don't have to keep the kernel up all the time"
   ]
  },
  {
   "cell_type": "code",
   "execution_count": 13,
   "metadata": {},
   "outputs": [],
   "source": [
    "base_df.to_csv('coin_tosses.csv')"
   ]
  },
  {
   "cell_type": "markdown",
   "metadata": {},
   "source": [
    "**If restarting a kernel**, don't run the entire simulation. **START FROM HERE**"
   ]
  },
  {
   "cell_type": "code",
   "execution_count": 3,
   "metadata": {},
   "outputs": [],
   "source": [
    "base_df = pd.read_csv('coin_tosses.csv')"
   ]
  },
  {
   "cell_type": "code",
   "execution_count": 4,
   "metadata": {
    "scrolled": false
   },
   "outputs": [
    {
     "name": "stdout",
     "output_type": "stream",
     "text": [
      "<class 'pandas.core.frame.DataFrame'>\n",
      "RangeIndex: 5000 entries, 0 to 4999\n",
      "Columns: 10002 entries, Iteration to 9999\n",
      "dtypes: int64(1), object(10001)\n",
      "memory usage: 381.5+ MB\n"
     ]
    }
   ],
   "source": [
    "base_df.info()"
   ]
  },
  {
   "cell_type": "code",
   "execution_count": 5,
   "metadata": {},
   "outputs": [],
   "source": [
    "col_copy = base_df.columns.copy().tolist()\n",
    "col_copy[1] = 'info'\n",
    "base_df.columns = col_copy"
   ]
  },
  {
   "cell_type": "code",
   "execution_count": 6,
   "metadata": {},
   "outputs": [],
   "source": [
    "base_df = base_df.set_index(['Iteration','info'])\n",
    "base_df.columns = pd.Series(col_copy[2:]).apply(int).tolist()"
   ]
  },
  {
   "cell_type": "code",
   "execution_count": 7,
   "metadata": {
    "scrolled": false
   },
   "outputs": [
    {
     "data": {
      "text/html": [
       "<div>\n",
       "<style scoped>\n",
       "    .dataframe tbody tr th:only-of-type {\n",
       "        vertical-align: middle;\n",
       "    }\n",
       "\n",
       "    .dataframe tbody tr th {\n",
       "        vertical-align: top;\n",
       "    }\n",
       "\n",
       "    .dataframe thead th {\n",
       "        text-align: right;\n",
       "    }\n",
       "</style>\n",
       "<table border=\"1\" class=\"dataframe\">\n",
       "  <thead>\n",
       "    <tr style=\"text-align: right;\">\n",
       "      <th></th>\n",
       "      <th></th>\n",
       "      <th>0</th>\n",
       "      <th>1</th>\n",
       "      <th>2</th>\n",
       "      <th>3</th>\n",
       "      <th>4</th>\n",
       "      <th>5</th>\n",
       "      <th>6</th>\n",
       "      <th>7</th>\n",
       "      <th>8</th>\n",
       "      <th>9</th>\n",
       "      <th>...</th>\n",
       "      <th>9990</th>\n",
       "      <th>9991</th>\n",
       "      <th>9992</th>\n",
       "      <th>9993</th>\n",
       "      <th>9994</th>\n",
       "      <th>9995</th>\n",
       "      <th>9996</th>\n",
       "      <th>9997</th>\n",
       "      <th>9998</th>\n",
       "      <th>9999</th>\n",
       "    </tr>\n",
       "    <tr>\n",
       "      <th>Iteration</th>\n",
       "      <th>info</th>\n",
       "      <th></th>\n",
       "      <th></th>\n",
       "      <th></th>\n",
       "      <th></th>\n",
       "      <th></th>\n",
       "      <th></th>\n",
       "      <th></th>\n",
       "      <th></th>\n",
       "      <th></th>\n",
       "      <th></th>\n",
       "      <th></th>\n",
       "      <th></th>\n",
       "      <th></th>\n",
       "      <th></th>\n",
       "      <th></th>\n",
       "      <th></th>\n",
       "      <th></th>\n",
       "      <th></th>\n",
       "      <th></th>\n",
       "      <th></th>\n",
       "      <th></th>\n",
       "    </tr>\n",
       "  </thead>\n",
       "  <tbody>\n",
       "    <tr>\n",
       "      <th rowspan=\"5\" valign=\"top\">0</th>\n",
       "      <th>coin1_result</th>\n",
       "      <td>1</td>\n",
       "      <td>0</td>\n",
       "      <td>1</td>\n",
       "      <td>1</td>\n",
       "      <td>0</td>\n",
       "      <td>0</td>\n",
       "      <td>1</td>\n",
       "      <td>1</td>\n",
       "      <td>0</td>\n",
       "      <td>0</td>\n",
       "      <td>...</td>\n",
       "      <td>1</td>\n",
       "      <td>0</td>\n",
       "      <td>1</td>\n",
       "      <td>0</td>\n",
       "      <td>0</td>\n",
       "      <td>1</td>\n",
       "      <td>0</td>\n",
       "      <td>0</td>\n",
       "      <td>0</td>\n",
       "      <td>0</td>\n",
       "    </tr>\n",
       "    <tr>\n",
       "      <th>coin1_type</th>\n",
       "      <td>HALF-DOLLAR</td>\n",
       "      <td>NICKEL</td>\n",
       "      <td>DOLLAR</td>\n",
       "      <td>DIME</td>\n",
       "      <td>DOLLAR</td>\n",
       "      <td>DIME</td>\n",
       "      <td>DOLLAR</td>\n",
       "      <td>PENNY</td>\n",
       "      <td>DOLLAR</td>\n",
       "      <td>DOLLAR</td>\n",
       "      <td>...</td>\n",
       "      <td>QUARTER</td>\n",
       "      <td>DOLLAR</td>\n",
       "      <td>PENNY</td>\n",
       "      <td>NICKEL</td>\n",
       "      <td>DOLLAR</td>\n",
       "      <td>HALF-DOLLAR</td>\n",
       "      <td>NICKEL</td>\n",
       "      <td>HALF-DOLLAR</td>\n",
       "      <td>DIME</td>\n",
       "      <td>DOLLAR</td>\n",
       "    </tr>\n",
       "    <tr>\n",
       "      <th>coin2_result</th>\n",
       "      <td>1</td>\n",
       "      <td>1</td>\n",
       "      <td>0</td>\n",
       "      <td>0</td>\n",
       "      <td>0</td>\n",
       "      <td>0</td>\n",
       "      <td>0</td>\n",
       "      <td>0</td>\n",
       "      <td>0</td>\n",
       "      <td>0</td>\n",
       "      <td>...</td>\n",
       "      <td>0</td>\n",
       "      <td>1</td>\n",
       "      <td>0</td>\n",
       "      <td>1</td>\n",
       "      <td>1</td>\n",
       "      <td>0</td>\n",
       "      <td>1</td>\n",
       "      <td>0</td>\n",
       "      <td>0</td>\n",
       "      <td>1</td>\n",
       "    </tr>\n",
       "    <tr>\n",
       "      <th>coin2_type</th>\n",
       "      <td>HALF-DOLLAR</td>\n",
       "      <td>HALF-DOLLAR</td>\n",
       "      <td>HALF-DOLLAR</td>\n",
       "      <td>HALF-DOLLAR</td>\n",
       "      <td>DOLLAR</td>\n",
       "      <td>PENNY</td>\n",
       "      <td>HALF-DOLLAR</td>\n",
       "      <td>DIME</td>\n",
       "      <td>DOLLAR</td>\n",
       "      <td>HALF-DOLLAR</td>\n",
       "      <td>...</td>\n",
       "      <td>NICKEL</td>\n",
       "      <td>QUARTER</td>\n",
       "      <td>PENNY</td>\n",
       "      <td>DOLLAR</td>\n",
       "      <td>DOLLAR</td>\n",
       "      <td>NICKEL</td>\n",
       "      <td>QUARTER</td>\n",
       "      <td>DIME</td>\n",
       "      <td>NICKEL</td>\n",
       "      <td>QUARTER</td>\n",
       "    </tr>\n",
       "    <tr>\n",
       "      <th>p_value</th>\n",
       "      <td>1</td>\n",
       "      <td>0.42264973081037427</td>\n",
       "      <td>1.0</td>\n",
       "      <td>0.5369633243867579</td>\n",
       "      <td>0.5795840000000001</td>\n",
       "      <td>0.599470310654575</td>\n",
       "      <td>0.3168543569775698</td>\n",
       "      <td>0.1489038747445396</td>\n",
       "      <td>0.16494927617311392</td>\n",
       "      <td>0.1768796480794004</td>\n",
       "      <td>...</td>\n",
       "      <td>0.43648962413768666</td>\n",
       "      <td>0.42821891240886034</td>\n",
       "      <td>0.4365355263001097</td>\n",
       "      <td>0.4282651274491972</td>\n",
       "      <td>0.420087440935903</td>\n",
       "      <td>0.42831133151958356</td>\n",
       "      <td>0.42013393601362004</td>\n",
       "      <td>0.4201569446421525</td>\n",
       "      <td>0.4201799459921215</td>\n",
       "      <td>0.41209606766598417</td>\n",
       "    </tr>\n",
       "  </tbody>\n",
       "</table>\n",
       "<p>5 rows × 10000 columns</p>\n",
       "</div>"
      ],
      "text/plain": [
       "                               0                    1            2     \\\n",
       "Iteration info                                                          \n",
       "0         coin1_result            1                    0            1   \n",
       "          coin1_type    HALF-DOLLAR               NICKEL       DOLLAR   \n",
       "          coin2_result            1                    1            0   \n",
       "          coin2_type    HALF-DOLLAR          HALF-DOLLAR  HALF-DOLLAR   \n",
       "          p_value                 1  0.42264973081037427          1.0   \n",
       "\n",
       "                                      3                   4     \\\n",
       "Iteration info                                                   \n",
       "0         coin1_result                   1                   0   \n",
       "          coin1_type                  DIME              DOLLAR   \n",
       "          coin2_result                   0                   0   \n",
       "          coin2_type           HALF-DOLLAR              DOLLAR   \n",
       "          p_value       0.5369633243867579  0.5795840000000001   \n",
       "\n",
       "                                     5                   6     \\\n",
       "Iteration info                                                  \n",
       "0         coin1_result                  0                   1   \n",
       "          coin1_type                 DIME              DOLLAR   \n",
       "          coin2_result                  0                   0   \n",
       "          coin2_type                PENNY         HALF-DOLLAR   \n",
       "          p_value       0.599470310654575  0.3168543569775698   \n",
       "\n",
       "                                      7                    8     \\\n",
       "Iteration info                                                    \n",
       "0         coin1_result                   1                    0   \n",
       "          coin1_type                 PENNY               DOLLAR   \n",
       "          coin2_result                   0                    0   \n",
       "          coin2_type                  DIME               DOLLAR   \n",
       "          p_value       0.1489038747445396  0.16494927617311392   \n",
       "\n",
       "                                      9     ...                 9990  \\\n",
       "Iteration info                              ...                        \n",
       "0         coin1_result                   0  ...                    1   \n",
       "          coin1_type                DOLLAR  ...              QUARTER   \n",
       "          coin2_result                   0  ...                    0   \n",
       "          coin2_type           HALF-DOLLAR  ...               NICKEL   \n",
       "          p_value       0.1768796480794004  ...  0.43648962413768666   \n",
       "\n",
       "                                       9991                9992  \\\n",
       "Iteration info                                                    \n",
       "0         coin1_result                    0                   1   \n",
       "          coin1_type                 DOLLAR               PENNY   \n",
       "          coin2_result                    1                   0   \n",
       "          coin2_type                QUARTER               PENNY   \n",
       "          p_value       0.42821891240886034  0.4365355263001097   \n",
       "\n",
       "                                      9993               9994  \\\n",
       "Iteration info                                                  \n",
       "0         coin1_result                   0                  0   \n",
       "          coin1_type                NICKEL             DOLLAR   \n",
       "          coin2_result                   1                  1   \n",
       "          coin2_type                DOLLAR             DOLLAR   \n",
       "          p_value       0.4282651274491972  0.420087440935903   \n",
       "\n",
       "                                       9995                 9996  \\\n",
       "Iteration info                                                     \n",
       "0         coin1_result                    1                    0   \n",
       "          coin1_type            HALF-DOLLAR               NICKEL   \n",
       "          coin2_result                    0                    1   \n",
       "          coin2_type                 NICKEL              QUARTER   \n",
       "          p_value       0.42831133151958356  0.42013393601362004   \n",
       "\n",
       "                                      9997                9998  \\\n",
       "Iteration info                                                   \n",
       "0         coin1_result                   0                   0   \n",
       "          coin1_type           HALF-DOLLAR                DIME   \n",
       "          coin2_result                   0                   0   \n",
       "          coin2_type                  DIME              NICKEL   \n",
       "          p_value       0.4201569446421525  0.4201799459921215   \n",
       "\n",
       "                                       9999  \n",
       "Iteration info                               \n",
       "0         coin1_result                    0  \n",
       "          coin1_type                 DOLLAR  \n",
       "          coin2_result                    1  \n",
       "          coin2_type                QUARTER  \n",
       "          p_value       0.41209606766598417  \n",
       "\n",
       "[5 rows x 10000 columns]"
      ]
     },
     "execution_count": 7,
     "metadata": {},
     "output_type": "execute_result"
    }
   ],
   "source": [
    "base_df.head()"
   ]
  },
  {
   "cell_type": "markdown",
   "metadata": {},
   "source": [
    "## Correctly analyzing the data\n",
    "\n",
    "* How many false positives do we have? (How many times was the p-value for the experiments lower than 5%?)\n",
    "\n",
    "To answer that using proper methods, I will just look at the final result of each experiment"
   ]
  },
  {
   "cell_type": "code",
   "execution_count": 8,
   "metadata": {
    "scrolled": true
   },
   "outputs": [
    {
     "name": "stdout",
     "output_type": "stream",
     "text": [
      "The p-value at the end of the experiment was lower than 0.05 for 4.4% of the experiments\n"
     ]
    }
   ],
   "source": [
    "final_p_values = np.array(base_df.droplevel(0).loc['p_value'][NUMBER_OF_SAMPLES-1]).astype('float')\n",
    "false_positive_rate = sum(final_p_values <= DEFAULT_P_VALUE)/len(final_p_values)\n",
    "\n",
    "print(f'The p-value at the end of the experiment was lower than {DEFAULT_P_VALUE} for {round(false_positive_rate*100,1)}% of the experiments')"
   ]
  },
  {
   "cell_type": "markdown",
   "metadata": {},
   "source": [
    "## P-Hacking our data\n",
    "\n",
    "* What happens if I try to check my p-value many times during the test?\n",
    "* What if I check all different coin types?"
   ]
  },
  {
   "cell_type": "code",
   "execution_count": 9,
   "metadata": {
    "scrolled": true
   },
   "outputs": [
    {
     "name": "stdout",
     "output_type": "stream",
     "text": [
      "Also checking the p-value in the middle of the experiment we find p-values lower than 0.05 for 8.1% of the experiments\n"
     ]
    }
   ],
   "source": [
    "mid_p_values = np.array(base_df.droplevel(0).loc['p_value'][NUMBER_OF_SAMPLES/2-1]).astype('float')\n",
    "false_positive_rate = sum((final_p_values <= DEFAULT_P_VALUE) | (mid_p_values <= DEFAULT_P_VALUE))/len(final_p_values)\n",
    "\n",
    "print(f'Also checking the p-value in the middle of the experiment we find p-values lower than {DEFAULT_P_VALUE} for {round(false_positive_rate*100,1)}% of the experiments')"
   ]
  },
  {
   "cell_type": "code",
   "execution_count": 10,
   "metadata": {
    "scrolled": true
   },
   "outputs": [
    {
     "name": "stdout",
     "output_type": "stream",
     "text": [
      "Checking the p-value 3 times during the experiment we find p-values lower than 0.05 for 9.7% of the experiments\n"
     ]
    }
   ],
   "source": [
    "third_1 = np.array(base_df.droplevel(0).loc['p_value'][NUMBER_OF_SAMPLES//3 - 1]).astype('float')\n",
    "third_2 = np.array(base_df.droplevel(0).loc['p_value'][NUMBER_OF_SAMPLES//3*2 - 1]).astype('float')\n",
    "false_positive_rate = sum((final_p_values <= DEFAULT_P_VALUE) | (third_1 <= DEFAULT_P_VALUE) | (third_2 <= DEFAULT_P_VALUE))/len(final_p_values)\n",
    "\n",
    "print(f'Checking the p-value 3 times during the experiment we find p-values lower than {DEFAULT_P_VALUE} for {round(false_positive_rate*100,1)}% of the experiments')"
   ]
  },
  {
   "cell_type": "markdown",
   "metadata": {},
   "source": [
    "**How does that progress?**"
   ]
  },
  {
   "cell_type": "code",
   "execution_count": 13,
   "metadata": {
    "scrolled": true
   },
   "outputs": [
    {
     "name": "stderr",
     "output_type": "stream",
     "text": [
      "/usr/local/lib/python3.6/dist-packages/ipykernel_launcher.py:7: RuntimeWarning: invalid value encountered in less\n",
      "  import sys\n",
      "/usr/local/lib/python3.6/dist-packages/ipykernel_launcher.py:8: RuntimeWarning: invalid value encountered in less\n",
      "  \n"
     ]
    },
    {
     "data": {
      "text/html": [
       "<div>\n",
       "<style scoped>\n",
       "    .dataframe tbody tr th:only-of-type {\n",
       "        vertical-align: middle;\n",
       "    }\n",
       "\n",
       "    .dataframe tbody tr th {\n",
       "        vertical-align: top;\n",
       "    }\n",
       "\n",
       "    .dataframe thead th {\n",
       "        text-align: right;\n",
       "    }\n",
       "</style>\n",
       "<table border=\"1\" class=\"dataframe\">\n",
       "  <thead>\n",
       "    <tr style=\"text-align: right;\">\n",
       "      <th></th>\n",
       "      <th>false_positive_rate</th>\n",
       "    </tr>\n",
       "    <tr>\n",
       "      <th>number_of_observations</th>\n",
       "      <th></th>\n",
       "    </tr>\n",
       "  </thead>\n",
       "  <tbody>\n",
       "    <tr>\n",
       "      <th>1</th>\n",
       "      <td>4.4%</td>\n",
       "    </tr>\n",
       "    <tr>\n",
       "      <th>2</th>\n",
       "      <td>8.1%</td>\n",
       "    </tr>\n",
       "    <tr>\n",
       "      <th>3</th>\n",
       "      <td>9.7%</td>\n",
       "    </tr>\n",
       "    <tr>\n",
       "      <th>4</th>\n",
       "      <td>11.3%</td>\n",
       "    </tr>\n",
       "    <tr>\n",
       "      <th>5</th>\n",
       "      <td>13.8%</td>\n",
       "    </tr>\n",
       "    <tr>\n",
       "      <th>6</th>\n",
       "      <td>14.5%</td>\n",
       "    </tr>\n",
       "    <tr>\n",
       "      <th>7</th>\n",
       "      <td>15.9%</td>\n",
       "    </tr>\n",
       "    <tr>\n",
       "      <th>8</th>\n",
       "      <td>16.7%</td>\n",
       "    </tr>\n",
       "    <tr>\n",
       "      <th>9</th>\n",
       "      <td>16.9%</td>\n",
       "    </tr>\n",
       "    <tr>\n",
       "      <th>10</th>\n",
       "      <td>18.5%</td>\n",
       "    </tr>\n",
       "    <tr>\n",
       "      <th>20</th>\n",
       "      <td>24.8%</td>\n",
       "    </tr>\n",
       "    <tr>\n",
       "      <th>30</th>\n",
       "      <td>27.5%</td>\n",
       "    </tr>\n",
       "    <tr>\n",
       "      <th>40</th>\n",
       "      <td>30.7%</td>\n",
       "    </tr>\n",
       "    <tr>\n",
       "      <th>50</th>\n",
       "      <td>30.3%</td>\n",
       "    </tr>\n",
       "    <tr>\n",
       "      <th>60</th>\n",
       "      <td>33.6%</td>\n",
       "    </tr>\n",
       "    <tr>\n",
       "      <th>70</th>\n",
       "      <td>33.3%</td>\n",
       "    </tr>\n",
       "    <tr>\n",
       "      <th>80</th>\n",
       "      <td>35.8%</td>\n",
       "    </tr>\n",
       "    <tr>\n",
       "      <th>90</th>\n",
       "      <td>35.6%</td>\n",
       "    </tr>\n",
       "    <tr>\n",
       "      <th>100</th>\n",
       "      <td>37.7%</td>\n",
       "    </tr>\n",
       "    <tr>\n",
       "      <th>200</th>\n",
       "      <td>42.3%</td>\n",
       "    </tr>\n",
       "    <tr>\n",
       "      <th>300</th>\n",
       "      <td>45.8%</td>\n",
       "    </tr>\n",
       "    <tr>\n",
       "      <th>400</th>\n",
       "      <td>47.5%</td>\n",
       "    </tr>\n",
       "    <tr>\n",
       "      <th>500</th>\n",
       "      <td>48.1%</td>\n",
       "    </tr>\n",
       "    <tr>\n",
       "      <th>600</th>\n",
       "      <td>49.4%</td>\n",
       "    </tr>\n",
       "    <tr>\n",
       "      <th>700</th>\n",
       "      <td>49.4%</td>\n",
       "    </tr>\n",
       "    <tr>\n",
       "      <th>800</th>\n",
       "      <td>51.7%</td>\n",
       "    </tr>\n",
       "    <tr>\n",
       "      <th>900</th>\n",
       "      <td>50.5%</td>\n",
       "    </tr>\n",
       "    <tr>\n",
       "      <th>1000</th>\n",
       "      <td>51.9%</td>\n",
       "    </tr>\n",
       "    <tr>\n",
       "      <th>2000</th>\n",
       "      <td>56.7%</td>\n",
       "    </tr>\n",
       "    <tr>\n",
       "      <th>3000</th>\n",
       "      <td>58.0%</td>\n",
       "    </tr>\n",
       "    <tr>\n",
       "      <th>4000</th>\n",
       "      <td>64.0%</td>\n",
       "    </tr>\n",
       "    <tr>\n",
       "      <th>5000</th>\n",
       "      <td>64.9%</td>\n",
       "    </tr>\n",
       "    <tr>\n",
       "      <th>6000</th>\n",
       "      <td>60.6%</td>\n",
       "    </tr>\n",
       "    <tr>\n",
       "      <th>7000</th>\n",
       "      <td>65.5%</td>\n",
       "    </tr>\n",
       "    <tr>\n",
       "      <th>8000</th>\n",
       "      <td>65.1%</td>\n",
       "    </tr>\n",
       "    <tr>\n",
       "      <th>9000</th>\n",
       "      <td>66.0%</td>\n",
       "    </tr>\n",
       "    <tr>\n",
       "      <th>10000</th>\n",
       "      <td>66.3%</td>\n",
       "    </tr>\n",
       "  </tbody>\n",
       "</table>\n",
       "</div>"
      ],
      "text/plain": [
       "                       false_positive_rate\n",
       "number_of_observations                    \n",
       "1                                     4.4%\n",
       "2                                     8.1%\n",
       "3                                     9.7%\n",
       "4                                    11.3%\n",
       "5                                    13.8%\n",
       "6                                    14.5%\n",
       "7                                    15.9%\n",
       "8                                    16.7%\n",
       "9                                    16.9%\n",
       "10                                   18.5%\n",
       "20                                   24.8%\n",
       "30                                   27.5%\n",
       "40                                   30.7%\n",
       "50                                   30.3%\n",
       "60                                   33.6%\n",
       "70                                   33.3%\n",
       "80                                   35.8%\n",
       "90                                   35.6%\n",
       "100                                  37.7%\n",
       "200                                  42.3%\n",
       "300                                  45.8%\n",
       "400                                  47.5%\n",
       "500                                  48.1%\n",
       "600                                  49.4%\n",
       "700                                  49.4%\n",
       "800                                  51.7%\n",
       "900                                  50.5%\n",
       "1000                                 51.9%\n",
       "2000                                 56.7%\n",
       "3000                                 58.0%\n",
       "4000                                 64.0%\n",
       "5000                                 64.9%\n",
       "6000                                 60.6%\n",
       "7000                                 65.5%\n",
       "8000                                 65.1%\n",
       "9000                                 66.0%\n",
       "10000                                66.3%"
      ]
     },
     "execution_count": 13,
     "metadata": {},
     "output_type": "execute_result"
    }
   ],
   "source": [
    "false_positives = []\n",
    "false_positives_to_df = []\n",
    "tests = list(range(1,10)) + list(np.array(range(1,10))*10) + list(np.array(range(1,10))*100) + list(np.array(range(1,10))*1000) + [10000]\n",
    "\n",
    "for i in tests:\n",
    "    list_indexes = ((10000/i) * np.array(range(1,i+1)) - 1).astype(int)\n",
    "    false_positives.append((sum(sum((np.array(base_df.droplevel(0).loc['p_value'][list_indexes]).astype('float') < 0.05).T)>=1)/10))\n",
    "    false_positives_to_df.append(str(round(sum(sum((np.array(base_df.droplevel(0).loc['p_value'][list_indexes]).astype('float') < 0.05).T)>=1)/10,1))+'%')\n",
    "\n",
    "fp_rate_df = pd.DataFrame([tests,false_positives_to_df], index=['number_of_observations','false_positive_rate']).transpose().set_index('number_of_observations')\n",
    "fp_rate_df"
   ]
  },
  {
   "cell_type": "code",
   "execution_count": 20,
   "metadata": {
    "scrolled": false
   },
   "outputs": [
    {
     "data": {
      "image/png": "[encoded data removed]",
      "text/plain": [
       "<Figure size 864x360 with 1 Axes>"
      ]
     },
     "metadata": {
      "needs_background": "light"
     },
     "output_type": "display_data"
    }
   ],
   "source": [
    "plt.figure(figsize=[12,5])\n",
    "plt.plot(tests,np.array(false_positives))\n",
    "plt.xlabel('Number of observations during the test')\n",
    "plt.ylabel('False positives (%)')\n",
    "plt.title('Number of observations vs. Percent of false positives')\n",
    "plt.show()"
   ]
  },
  {
   "cell_type": "markdown",
   "metadata": {},
   "source": [
    "**Checking each coin type**"
   ]
  },
  {
   "cell_type": "code",
   "execution_count": 15,
   "metadata": {},
   "outputs": [
    {
     "name": "stdout",
     "output_type": "stream",
     "text": [
      "PENNY\n",
      "NICKEL\n",
      "DIME\n",
      "QUARTER\n",
      "HALF-DOLLAR\n",
      "DOLLAR\n"
     ]
    }
   ],
   "source": [
    "results = []\n",
    "\n",
    "for coin_type in COIN_TYPES:\n",
    "    print(coin_type)\n",
    "    total1 = sum((np.array(base_df.droplevel(0).loc['coin1_type'] == coin_type).T))\n",
    "    trues1 = sum((np.array(base_df.droplevel(0).loc['coin1_type'] == coin_type) & np.array(base_df.droplevel(0).loc['coin1_result'].applymap(int).applymap(bool))).T)\n",
    "    falses1 = total1 - trues1\n",
    "    total2 = sum((np.array(base_df.droplevel(0).loc['coin2_type'] == coin_type).T))\n",
    "    trues2 = sum((np.array(base_df.droplevel(0).loc['coin2_type'] == coin_type) & np.array(base_df.droplevel(0).loc['coin2_result'].applymap(int).applymap(bool))).T)\n",
    "    falses2 = total2 - trues2\n",
    "    values = []\n",
    "    for i in range(len(total1)):\n",
    "        arr1 = np.append(np.zeros(falses1[i]), np.ones(trues1[i]))\n",
    "        arr2 = np.append(np.zeros(falses2[i]), np.ones(trues2[i]))\n",
    "        _,p_value = stats.ttest_ind(arr1,arr2)\n",
    "        values.append(p_value)\n",
    "    results.append(values)"
   ]
  },
  {
   "cell_type": "code",
   "execution_count": 16,
   "metadata": {},
   "outputs": [
    {
     "name": "stdout",
     "output_type": "stream",
     "text": [
      "If we check the results for each coin type, 282 out of 1000 experiments would find at least one \"significant\" difference\n"
     ]
    }
   ],
   "source": [
    "type_false_positives = sum(sum(np.array(results) < 0.05)>0)\n",
    "\n",
    "print(f'If we check the results for each coin type, {type_false_positives} out of {NUMBER_OF_TESTS} experiments would find at least one \"significant\" difference')"
   ]
  },
  {
   "cell_type": "markdown",
   "metadata": {},
   "source": [
    "## Sequential analysis\n",
    "\n",
    "Applying 3 different sequential analysis to see how they affect the final result"
   ]
  },
  {
   "cell_type": "markdown",
   "metadata": {},
   "source": [
    "**O'Brien-Fleming**"
   ]
  },
  {
   "cell_type": "code",
   "execution_count": 17,
   "metadata": {},
   "outputs": [
    {
     "name": "stdout",
     "output_type": "stream",
     "text": [
      "Applying the O'Brien-Fleming method, we would get false positives for 42 out of 1,000 experiments\n"
     ]
    }
   ],
   "source": [
    "t1 = np.array(base_df.droplevel(0).loc['p_value'][1999]).astype('float') < 0.000005\n",
    "t2 = np.array(base_df.droplevel(0).loc['p_value'][3999]).astype('float') < 0.0013\n",
    "t3 = np.array(base_df.droplevel(0).loc['p_value'][5999]).astype('float') < 0.0085\n",
    "t4 = np.array(base_df.droplevel(0).loc['p_value'][7999]).astype('float') < 0.0228\n",
    "t5 = np.array(base_df.droplevel(0).loc['p_value'][9999]).astype('float') < 0.0417\n",
    "\n",
    "fp = sum(t1 | t2 | t3 | t4 | t5)\n",
    "\n",
    "print(f'Applying the O\\'Brien-Fleming method, we would get false positives for {fp} out of 1,000 experiments')"
   ]
  },
  {
   "cell_type": "markdown",
   "metadata": {},
   "source": [
    "**Pocock**"
   ]
  },
  {
   "cell_type": "code",
   "execution_count": 18,
   "metadata": {},
   "outputs": [
    {
     "name": "stdout",
     "output_type": "stream",
     "text": [
      "Applying the O'Brien-Fleming method, we would get false positives for 41 out of 1,000 experiments\n"
     ]
    }
   ],
   "source": [
    "t1 = np.array(base_df.droplevel(0).loc['p_value'][1999]).astype('float') < 0.0158\n",
    "t2 = np.array(base_df.droplevel(0).loc['p_value'][3999]).astype('float') < 0.0158\n",
    "t3 = np.array(base_df.droplevel(0).loc['p_value'][5999]).astype('float') < 0.0158\n",
    "t4 = np.array(base_df.droplevel(0).loc['p_value'][7999]).astype('float') < 0.0158\n",
    "t5 = np.array(base_df.droplevel(0).loc['p_value'][9999]).astype('float') < 0.0158\n",
    "\n",
    "fp = sum(t1 | t2 | t3 | t4 | t5)\n",
    "\n",
    "print(f'Applying the Pocock method, we would get false positives for {fp} out of 1,000 experiments')"
   ]
  },
  {
   "cell_type": "markdown",
   "metadata": {},
   "source": [
    "**Haybittle-Peto**"
   ]
  },
  {
   "cell_type": "code",
   "execution_count": 19,
   "metadata": {},
   "outputs": [
    {
     "name": "stdout",
     "output_type": "stream",
     "text": [
      "Applying the Haybittle-Peto method, we would get false positives for 45 out of 1,000 experiments\n"
     ]
    }
   ],
   "source": [
    "t1 = np.array(base_df.droplevel(0).loc['p_value'][1999]).astype('float') < 0.001\n",
    "t2 = np.array(base_df.droplevel(0).loc['p_value'][3999]).astype('float') < 0.001\n",
    "t3 = np.array(base_df.droplevel(0).loc['p_value'][5999]).astype('float') < 0.001\n",
    "t4 = np.array(base_df.droplevel(0).loc['p_value'][7999]).astype('float') < 0.001\n",
    "t5 = np.array(base_df.droplevel(0).loc['p_value'][9999]).astype('float') < 0.05\n",
    "\n",
    "fp = sum(t1 | t2 | t3 | t4 | t5)\n",
    "\n",
    "print(f'Applying the Haybittle-Peto method, we would get false positives for {fp} out of 1,000 experiments')"
   ]
  }
 ],
 "metadata": {
  "kernelspec": {
   "display_name": "analytics",
   "language": "python",
   "name": "analytics"
  },
  "language_info": {
   "codemirror_mode": {
    "name": "ipython",
    "version": 3
   },
   "file_extension": ".py",
   "mimetype": "text/x-python",
   "name": "python",
   "nbconvert_exporter": "python",
   "pygments_lexer": "ipython3",
   "version": "3.6.7"
  }
 },
 "nbformat": 4,
 "nbformat_minor": 2
}
